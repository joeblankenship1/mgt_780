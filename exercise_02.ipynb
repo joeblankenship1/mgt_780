{
 "cells": [
  {
   "cell_type": "markdown",
   "metadata": {},
   "source": [
    "# Math Foundations"
   ]
  },
  {
   "cell_type": "markdown",
   "metadata": {},
   "source": [
    "## Graph-theoretic Concepts"
   ]
  },
  {
   "cell_type": "markdown",
   "metadata": {},
   "source": [
    "#### 1 - For this exercise we will use datasets CAMPNET and ZACKAR.\n",
    "\n",
    "1. CAMPNET. This is a network of 18 participants in a qualitative methods class. Ties are directed and represent that the ego indicated that the nominated alter was one of the three people with which s/he spent the most time during the seminar. \n",
    "2. ZACKAR. These are data collected from the members of a university karate club by Wayne Zachary. The ZACHE matrix represents the presence or absence of ties among the members of the club; the ZACHC matrix indicates the relative strength of the associations (number of situations in and outside the club in which interactions occurred)."
   ]
  },
  {
   "cell_type": "code",
   "execution_count": null,
   "metadata": {},
   "outputs": [],
   "source": [
    "import pandas as pd\n",
    "import numpy as np\n",
    "import matplotlib.pyplot as plt\n",
    "import networkx as nx\n",
    "\n",
    "%matplotlib inline"
   ]
  },
  {
   "cell_type": "code",
   "execution_count": null,
   "metadata": {},
   "outputs": [],
   "source": [
    "campnet = pd.read_csv('data/campnet.csv', index_col='ID')\n",
    "zachar_e = pd.read_csv('data/ZACKE.csv', index_col='ID')\n",
    "zachar_c = pd.read_csv('data/ZACKC.csv', index_col='ID')"
   ]
  },
  {
   "cell_type": "markdown",
   "metadata": {},
   "source": [
    "#### 2 - Calculate overall density of the ZACKAR networks"
   ]
  },
  {
   "cell_type": "code",
   "execution_count": null,
   "metadata": {},
   "outputs": [],
   "source": [
    "zachar_e_npa = zachar_e.as_matrix(columns=list(zachar_e))\n",
    "zachar_e_graph = nx.from_numpy_matrix(zachar_e_npa)\n",
    "plt.figure(figsize=(12,12))\n",
    "nx.draw_networkx(zachar_e_graph)"
   ]
  },
  {
   "cell_type": "code",
   "execution_count": null,
   "metadata": {},
   "outputs": [],
   "source": [
    "nx.density(zachar_e_graph)"
   ]
  },
  {
   "cell_type": "code",
   "execution_count": null,
   "metadata": {},
   "outputs": [],
   "source": [
    "zachar_c_npa = zachar_c.as_matrix(columns=list(zachar_c))\n",
    "zachar_c_graph = nx.from_numpy_matrix(zachar_c_npa)\n",
    "plt.figure(figsize=(12,12))\n",
    "nx.draw_networkx(zachar_c_graph)"
   ]
  },
  {
   "cell_type": "code",
   "execution_count": null,
   "metadata": {},
   "outputs": [],
   "source": [
    "nx.density(zachar_c_graph)"
   ]
  },
  {
   "cell_type": "markdown",
   "metadata": {},
   "source": [
    "#### 3 - Now calculate and interpret the density of the CAMPNET network. Does it make sense to look at the density of this dataset?"
   ]
  },
  {
   "cell_type": "code",
   "execution_count": null,
   "metadata": {},
   "outputs": [],
   "source": [
    "campnet_npa = campnet.as_matrix(columns=campnet.index)\n",
    "campnet_graph = nx.from_numpy_matrix(campnet_npa)\n",
    "campnet_digraph = nx.DiGraph(campnet_graph)\n",
    "plt.figure(figsize=(12,12))\n",
    "nx.draw_networkx(campnet_digraph)"
   ]
  },
  {
   "cell_type": "code",
   "execution_count": null,
   "metadata": {},
   "outputs": [],
   "source": [
    "nx.density(campnet_graph)"
   ]
  },
  {
   "cell_type": "markdown",
   "metadata": {},
   "source": [
    "#### 4 - Calculate the number of weak AND strong components in the CAMPNET dataset."
   ]
  },
  {
   "cell_type": "code",
   "execution_count": null,
   "metadata": {},
   "outputs": [],
   "source": [
    "campnet_weak = nx.number_weakly_connected_components(campnet_digraph)\n",
    "campnet_weak"
   ]
  },
  {
   "cell_type": "code",
   "execution_count": null,
   "metadata": {},
   "outputs": [],
   "source": [
    "campnet_strong = nx.number_strongly_connected_components(campnet_digraph)\n",
    "campnet_strong"
   ]
  },
  {
   "cell_type": "markdown",
   "metadata": {},
   "source": [
    "#### 5 - Trace all paths between two nodes in CAMPNET. Kudos to whomever can find the longest path between two actors in this dataset. Make sure to find two actors who have a path. Graph the network to identify some actors that have long paths between them."
   ]
  },
  {
   "cell_type": "code",
   "execution_count": null,
   "metadata": {},
   "outputs": [],
   "source": [
    "for path in nx.all_simple_paths(campnet_digraph, source=0, target=17):\n",
    "    print(path)"
   ]
  },
  {
   "cell_type": "markdown",
   "metadata": {},
   "source": [
    "#### 6 - Run geodesic distance on Campnet. Choose how you would like your undefined distances to be saved as."
   ]
  },
  {
   "cell_type": "code",
   "execution_count": null,
   "metadata": {},
   "outputs": [],
   "source": [
    "campnet_shortest_path = nx.shortest_path(campnet_digraph)\n",
    "campnet_shortest_path"
   ]
  },
  {
   "cell_type": "markdown",
   "metadata": {},
   "source": [
    "#### 7 - Run reachability on campnet. Try to explain how this may be useful to know in an organizational or public health setting. Think interventions…"
   ]
  },
  {
   "cell_type": "code",
   "execution_count": null,
   "metadata": {},
   "outputs": [],
   "source": [
    "campnet_reach = nx.descendants(campnet_digraph, source=5)\n",
    "campnet_reach"
   ]
  },
  {
   "cell_type": "markdown",
   "metadata": {},
   "source": [
    "## Matrix Multiplication"
   ]
  },
  {
   "cell_type": "markdown",
   "metadata": {},
   "source": [
    "In this exercise, we will be using matrix multiplication.\n",
    "\n",
    "We will be using the PADGETT dataset. This dataset contains two matrices, PADGM and PADGB. Padgm represents marriages ties and padgb represents business ties. "
   ]
  },
  {
   "cell_type": "code",
   "execution_count": null,
   "metadata": {},
   "outputs": [],
   "source": [
    "padgm = pd.read_csv('data/padgm.csv', index_col='ID')\n",
    "padgb = pd.read_csv('data/padgb.csv', index_col='ID')"
   ]
  },
  {
   "cell_type": "markdown",
   "metadata": {},
   "source": [
    "#### 1 - Multiply padgm by padgb. Call the result mb."
   ]
  },
  {
   "cell_type": "code",
   "execution_count": null,
   "metadata": {},
   "outputs": [],
   "source": [
    "mb = np.dot(padgm, padgb)\n",
    "mb"
   ]
  },
  {
   "cell_type": "markdown",
   "metadata": {},
   "source": [
    "#### 2 - Display the contents of mb. If there is a zero in the (2,6) cell (Albizzi to Ginori), what does that mean? Interpret the 1s, 2s and 3s as well."
   ]
  },
  {
   "cell_type": "code",
   "execution_count": null,
   "metadata": {},
   "outputs": [],
   "source": []
  },
  {
   "cell_type": "markdown",
   "metadata": {},
   "source": [
    "#### 3 - Multiply padgb by padgm. Call the results bm. Yes, order matters. Think of mb and bm as two newly measured social relations among these families. What would you call these relations? What does it mean for a family to have the mb relation with another family? How is it different from having the bm relation with the other family?"
   ]
  },
  {
   "cell_type": "code",
   "execution_count": null,
   "metadata": {},
   "outputs": [],
   "source": [
    "bm = np.dot(padgb, padgm)\n",
    "bm"
   ]
  },
  {
   "cell_type": "markdown",
   "metadata": {},
   "source": [
    "#### 4 - Multiply padgm by padgm and call the result mm. Display mm. How do you interpret the values?"
   ]
  },
  {
   "cell_type": "code",
   "execution_count": null,
   "metadata": {},
   "outputs": [],
   "source": [
    "mm = np.dot(padgm, padgm)\n",
    "mm"
   ]
  },
  {
   "cell_type": "markdown",
   "metadata": {},
   "source": [
    "#### 5 - Switching datasets, multiply the dataset campnet by its transpose. How do you interpret the values?"
   ]
  },
  {
   "cell_type": "code",
   "execution_count": null,
   "metadata": {},
   "outputs": [],
   "source": [
    "campnet_mm = np.dot(campnet, campnet.transpose())\n",
    "campnet_mm"
   ]
  },
  {
   "cell_type": "markdown",
   "metadata": {},
   "source": [
    "## Matrix Algebra"
   ]
  },
  {
   "cell_type": "markdown",
   "metadata": {},
   "source": [
    "LINKS worksheet - by hand"
   ]
  },
  {
   "cell_type": "markdown",
   "metadata": {},
   "source": [
    "## 2-mode to 1-mode"
   ]
  },
  {
   "cell_type": "markdown",
   "metadata": {},
   "source": [
    "#### Importing a 2-mode dataset\n",
    "\n",
    "In Excel, open the file called “Aom division membership.xls”. The data are from a survey of 3,324 Academy of Management members, asking them which of 23 divisions of the AOM they belonged to. Save the dataset as a matrix “membership”. "
   ]
  },
  {
   "cell_type": "code",
   "execution_count": null,
   "metadata": {},
   "outputs": [],
   "source": []
  },
  {
   "cell_type": "markdown",
   "metadata": {},
   "source": [
    "#### Converting to 1-mode\n",
    "\n",
    "From the Ucinet main menu, go to Data|Affiliations and put in membership as the input dataset. Choose Columns as the mode, and choose sum of cross products as the method. Finally, call the output dataset “comembership”. Results should be this:\n",
    "\n",
    "You can verify that this matrix is constructed by pre-multiplying the membership matrix by its transpose as follows. From Ucinet’s toolbar, press the CLI button. This opens a command line area. Now type this matrix multiplication command:\n",
    "\n",
    "->xtx = prod(transp(membership) membership)  //result will be dataset called xtx\n",
    "->dsp xtx   // result should be same matrix as above"
   ]
  },
  {
   "cell_type": "code",
   "execution_count": null,
   "metadata": {},
   "outputs": [],
   "source": []
  },
  {
   "cell_type": "markdown",
   "metadata": {},
   "source": [
    "#### Normalizing\n",
    "\n",
    "Notice in the matrix that only 7 people belong to both BPS (strategic management division) and CAR (careers division). It is true that researchers interested in corporate strategy tend not to be interested in careers. But we need to be careful: by chance along the overlap between the divisions is likely to be small since one of the divisions is very small (just 130 members). We should correct for the sizes of the different divisions. To do that we rerun Data|Affiliations, but this time choose Bonacich (1972) as the method. This effectively compares the observed overlaps with what you would get by chance, given the different division sizes, and assuming the choice of one division is independent of the choice of another. The results are normalized to run between 0 and 1. Before running it,  make sure to change the output file name to “normcomemb”. Your result should look like the below. Now, all of the numbers are comparable to each as the influence of group size has been filtered out.\n",
    "\n",
    "A cluster analysis of this matrix yields the following 4-cluster solution:\n",
    "\n",
    "For those unfamiliar with these divisions, the first cluster consists of divisions that very macro: the unit of analysis is usually the firm. The second cluster consists of super micro divisions, where the unit of analysis is the individual. "
   ]
  },
  {
   "cell_type": "code",
   "execution_count": null,
   "metadata": {},
   "outputs": [],
   "source": []
  }
 ],
 "metadata": {
  "kernelspec": {
   "display_name": "Python 3",
   "language": "python",
   "name": "python3"
  },
  "language_info": {
   "codemirror_mode": {
    "name": "ipython",
    "version": 3
   },
   "file_extension": ".py",
   "mimetype": "text/x-python",
   "name": "python",
   "nbconvert_exporter": "python",
   "pygments_lexer": "ipython3",
   "version": "3.5.2"
  }
 },
 "nbformat": 4,
 "nbformat_minor": 2
}
